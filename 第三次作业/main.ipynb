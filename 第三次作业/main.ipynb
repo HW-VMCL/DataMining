{
 "cells": [
  {
   "attachments": {},
   "cell_type": "markdown",
   "metadata": {},
   "source": [
    "## 互评作业三：基于支持向量机的手写数字识别\n",
    "本脚本采用支持向量机（SVM）方法对手写数字进行识别。通过对 MNIST 数据集进行处理，划分训练集和测试集。然后构建支持向量机模型，进行模型训练和评估。\n",
    "\n",
    "姓名：王鸿远 学号：3120220967\n",
    "\n",
    "代码仓库：https://github.com/HW-VMCL/DataMining"
   ]
  },
  {
   "attachments": {},
   "cell_type": "markdown",
   "metadata": {},
   "source": [
    "1. 读取 MNIST 数据：加载并处理手写数字图像数据及其对应的标签。"
   ]
  },
  {
   "cell_type": "code",
   "execution_count": 4,
   "metadata": {},
   "outputs": [
    {
     "name": "stdout",
     "output_type": "stream",
     "text": [
      "(60000,)\n",
      "(60000, 784)\n"
     ]
    }
   ],
   "source": [
    "import sklearn\n",
    "import numpy as np\n",
    "import struct\n",
    "## 读取MNIST数据，存为numpy数组，并打印其形状，仅采用官方提供的60000张训练数据。\n",
    "with open('train-labels.idx1-ubyte','rb') as file:\n",
    "    magic, n = struct.unpack('>II',file.read(8))\n",
    "    labels = np.fromfile(file,dtype=np.uint8)\n",
    "with open('train-images.idx3-ubyte', 'rb') as file:\n",
    "    magic, num, rows, cols = struct.unpack('>IIII',file.read(16))\n",
    "    images = np.fromfile(file,dtype=np.uint8).reshape(len(labels), 784)\n",
    "\n",
    "print(labels.shape)\n",
    "print(images.shape)"
   ]
  },
  {
   "attachments": {},
   "cell_type": "markdown",
   "metadata": {},
   "source": [
    "2. 划分训练集和测试集：将图像数据按照8:2比例划分为训练集和测试集。"
   ]
  },
  {
   "cell_type": "code",
   "execution_count": 5,
   "metadata": {},
   "outputs": [
    {
     "name": "stdout",
     "output_type": "stream",
     "text": [
      "(48000, 784)\n",
      "(12000, 784)\n",
      "(48000,)\n",
      "(12000,)\n"
     ]
    }
   ],
   "source": [
    "### 利用sklearn中提供的随机切分训练集和测试集的库函数，对数据进行切分，并打印其形状。\n",
    "from sklearn.model_selection  import train_test_split\n",
    "x_train,x_test,y_train,y_test = train_test_split(images,labels,test_size=0.2,random_state=816)\n",
    "print(x_train.shape)\n",
    "print(x_test.shape)\n",
    "print(y_train.shape)\n",
    "print(y_test.shape)"
   ]
  },
  {
   "attachments": {},
   "cell_type": "markdown",
   "metadata": {},
   "source": [
    "3. 特征缩放：对图像数据进行归一化处理，缩放到[0,1]范围。"
   ]
  },
  {
   "cell_type": "code",
   "execution_count": 8,
   "metadata": {},
   "outputs": [
    {
     "name": "stdout",
     "output_type": "stream",
     "text": [
      "255 255\n",
      "9 9\n"
     ]
    }
   ],
   "source": [
    "### 打印训练图像和标签的最大值，根据最大值将数据归一化处理。\n",
    "print(x_train.max(),x_test.max())\n",
    "print(y_train.max(),y_test.max())\n",
    "x_train/=255.0\n",
    "x_test/=255.0"
   ]
  },
  {
   "attachments": {},
   "cell_type": "markdown",
   "metadata": {},
   "source": [
    "4. 构建支持向量机模型：用径向基核训练模型。"
   ]
  },
  {
   "cell_type": "code",
   "execution_count": 9,
   "metadata": {},
   "outputs": [
    {
     "data": {
      "text/plain": [
       "SVC()"
      ]
     },
     "execution_count": 9,
     "metadata": {},
     "output_type": "execute_result"
    }
   ],
   "source": [
    "from sklearn import svm\n",
    "model = svm.SVC()\n",
    "model.fit(x_train,y_train)"
   ]
  },
  {
   "attachments": {},
   "cell_type": "markdown",
   "metadata": {},
   "source": [
    "5. 模型评估：在测试集上进行预测，计算模型的准确率、精确率、召回率、F1值，评估模型性能。"
   ]
  },
  {
   "cell_type": "code",
   "execution_count": 10,
   "metadata": {},
   "outputs": [
    {
     "name": "stdout",
     "output_type": "stream",
     "text": [
      "(12000,)\n"
     ]
    }
   ],
   "source": [
    "### 模型推理\n",
    "y_out=model.predict(x_test)\n",
    "print(y_out.shape)"
   ]
  },
  {
   "cell_type": "code",
   "execution_count": 18,
   "metadata": {},
   "outputs": [
    {
     "name": "stdout",
     "output_type": "stream",
     "text": [
      "准确率：0.9768\n",
      "精确率：0.9767\n",
      "召回率：0.9766\n",
      "F1：0.9766\n"
     ]
    }
   ],
   "source": [
    "### 计算准确率、精确率、召回率、F1指标\n",
    "from sklearn.metrics import accuracy_score,precision_score,recall_score,f1_score\n",
    "print('准确率：{:.4f}'.format(accuracy_score(y_test,y_out)))\n",
    "print('精确率：{:.4f}'.format(precision_score(y_test,y_out, average='macro')))\n",
    "print('召回率：{:.4f}'.format(recall_score(y_test,y_out, average='macro')))\n",
    "print('F1：{:.4f}'.format(recall_score(y_test,y_out, average='macro')))"
   ]
  },
  {
   "attachments": {},
   "cell_type": "markdown",
   "metadata": {},
   "source": [
    "6. 结果分析\n",
    "\n",
    "从实验结果来看，以径向基（rbf）为核函数的SVM在MNIST手写数字识别任务上能取得接近98%的准确率，准确率较高，说明实验设置合理，模型性能良好。"
   ]
  }
 ],
 "metadata": {
  "kernelspec": {
   "display_name": "base",
   "language": "python",
   "name": "python3"
  },
  "language_info": {
   "codemirror_mode": {
    "name": "ipython",
    "version": 3
   },
   "file_extension": ".py",
   "mimetype": "text/x-python",
   "name": "python",
   "nbconvert_exporter": "python",
   "pygments_lexer": "ipython3",
   "version": "3.9.13"
  },
  "orig_nbformat": 4
 },
 "nbformat": 4,
 "nbformat_minor": 2
}
